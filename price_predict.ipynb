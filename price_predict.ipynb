{
 "cells": [
  {
   "cell_type": "code",
   "execution_count": 1,
   "metadata": {
    "scrolled": false
   },
   "outputs": [],
   "source": [
    "import pandas as pd\n",
    "import numpy as np\n",
    "import matplotlib.pyplot as plt\n",
    "import seaborn as sns\n",
    "\n",
    "plt.rcParams['figure.figsize'] = [7, 5]\n",
    "plt.rcParams['figure.dpi'] = 100\n",
    "\n",
    "\n",
    "import matplotlib as mpl\n",
    "mpl.rcParams['agg.path.chunksize'] = 10000  #as we dealing with bigdataset it helps to divide into chunks\n",
    "\n",
    "#Preprocessing Lib\n",
    "from sklearn.preprocessing import RobustScaler,StandardScaler,MinMaxScaler,LabelEncoder\n",
    "from sklearn.pipeline import make_pipeline\n",
    "from sklearn.model_selection import learning_curve, cross_val_score, GridSearchCV\n",
    "\n",
    "#Metrics\n",
    "from sklearn import metrics\n",
    "\n",
    "#featureEngineering\n",
    "from sklearn.decomposition import PCA\n",
    "\n",
    "\n",
    "#model_selection\n",
    "from sklearn.model_selection import train_test_split\n",
    "\n",
    "#models\n",
    "from sklearn.ensemble import RandomForestRegressor,AdaBoostRegressor\n",
    "from xgboost import XGBRegressor\n",
    "from sklearn.linear_model import LinearRegression,Lasso,Ridge\n",
    "\n",
    "from tqdm.notebook import tqdm\n"
   ]
  },
  {
   "cell_type": "code",
   "execution_count": 2,
   "metadata": {},
   "outputs": [],
   "source": [
    "df = pd.read_csv('true_car_listings.csv')"
   ]
  },
  {
   "cell_type": "code",
   "execution_count": 3,
   "metadata": {},
   "outputs": [
    {
     "data": {
      "text/html": [
       "<div>\n",
       "<style scoped>\n",
       "    .dataframe tbody tr th:only-of-type {\n",
       "        vertical-align: middle;\n",
       "    }\n",
       "\n",
       "    .dataframe tbody tr th {\n",
       "        vertical-align: top;\n",
       "    }\n",
       "\n",
       "    .dataframe thead th {\n",
       "        text-align: right;\n",
       "    }\n",
       "</style>\n",
       "<table border=\"1\" class=\"dataframe\">\n",
       "  <thead>\n",
       "    <tr style=\"text-align: right;\">\n",
       "      <th></th>\n",
       "      <th>Price</th>\n",
       "      <th>Year</th>\n",
       "      <th>Mileage</th>\n",
       "      <th>City</th>\n",
       "      <th>State</th>\n",
       "      <th>Vin</th>\n",
       "      <th>Make</th>\n",
       "      <th>Model</th>\n",
       "    </tr>\n",
       "  </thead>\n",
       "  <tbody>\n",
       "    <tr>\n",
       "      <th>0</th>\n",
       "      <td>8995</td>\n",
       "      <td>2014</td>\n",
       "      <td>35725</td>\n",
       "      <td>El Paso</td>\n",
       "      <td>TX</td>\n",
       "      <td>19VDE2E53EE000083</td>\n",
       "      <td>Acura</td>\n",
       "      <td>ILX6-Speed</td>\n",
       "    </tr>\n",
       "    <tr>\n",
       "      <th>1</th>\n",
       "      <td>10888</td>\n",
       "      <td>2013</td>\n",
       "      <td>19606</td>\n",
       "      <td>Long Island City</td>\n",
       "      <td>NY</td>\n",
       "      <td>19VDE1F52DE012636</td>\n",
       "      <td>Acura</td>\n",
       "      <td>ILX5-Speed</td>\n",
       "    </tr>\n",
       "    <tr>\n",
       "      <th>2</th>\n",
       "      <td>8995</td>\n",
       "      <td>2013</td>\n",
       "      <td>48851</td>\n",
       "      <td>El Paso</td>\n",
       "      <td>TX</td>\n",
       "      <td>19VDE2E52DE000025</td>\n",
       "      <td>Acura</td>\n",
       "      <td>ILX6-Speed</td>\n",
       "    </tr>\n",
       "    <tr>\n",
       "      <th>3</th>\n",
       "      <td>10999</td>\n",
       "      <td>2014</td>\n",
       "      <td>39922</td>\n",
       "      <td>Windsor</td>\n",
       "      <td>CO</td>\n",
       "      <td>19VDE1F71EE003817</td>\n",
       "      <td>Acura</td>\n",
       "      <td>ILX5-Speed</td>\n",
       "    </tr>\n",
       "    <tr>\n",
       "      <th>4</th>\n",
       "      <td>14799</td>\n",
       "      <td>2016</td>\n",
       "      <td>22142</td>\n",
       "      <td>Lindon</td>\n",
       "      <td>UT</td>\n",
       "      <td>19UDE2F32GA001284</td>\n",
       "      <td>Acura</td>\n",
       "      <td>ILXAutomatic</td>\n",
       "    </tr>\n",
       "  </tbody>\n",
       "</table>\n",
       "</div>"
      ],
      "text/plain": [
       "   Price  Year  Mileage              City State                Vin   Make  \\\n",
       "0   8995  2014    35725           El Paso    TX  19VDE2E53EE000083  Acura   \n",
       "1  10888  2013    19606  Long Island City    NY  19VDE1F52DE012636  Acura   \n",
       "2   8995  2013    48851           El Paso    TX  19VDE2E52DE000025  Acura   \n",
       "3  10999  2014    39922           Windsor    CO  19VDE1F71EE003817  Acura   \n",
       "4  14799  2016    22142            Lindon    UT  19UDE2F32GA001284  Acura   \n",
       "\n",
       "          Model  \n",
       "0    ILX6-Speed  \n",
       "1    ILX5-Speed  \n",
       "2    ILX6-Speed  \n",
       "3    ILX5-Speed  \n",
       "4  ILXAutomatic  "
      ]
     },
     "execution_count": 3,
     "metadata": {},
     "output_type": "execute_result"
    }
   ],
   "source": [
    "df.head()"
   ]
  },
  {
   "cell_type": "code",
   "execution_count": 4,
   "metadata": {},
   "outputs": [
    {
     "name": "stdout",
     "output_type": "stream",
     "text": [
      "<class 'pandas.core.frame.DataFrame'>\n",
      "RangeIndex: 852122 entries, 0 to 852121\n",
      "Data columns (total 8 columns):\n",
      " #   Column   Non-Null Count   Dtype \n",
      "---  ------   --------------   ----- \n",
      " 0   Price    852122 non-null  int64 \n",
      " 1   Year     852122 non-null  int64 \n",
      " 2   Mileage  852122 non-null  int64 \n",
      " 3   City     852122 non-null  object\n",
      " 4   State    852122 non-null  object\n",
      " 5   Vin      852122 non-null  object\n",
      " 6   Make     852122 non-null  object\n",
      " 7   Model    852122 non-null  object\n",
      "dtypes: int64(3), object(5)\n",
      "memory usage: 52.0+ MB\n"
     ]
    }
   ],
   "source": [
    "df.info()"
   ]
  },
  {
   "cell_type": "markdown",
   "metadata": {},
   "source": [
    "Смотрим пропуски"
   ]
  },
  {
   "cell_type": "code",
   "execution_count": 5,
   "metadata": {},
   "outputs": [
    {
     "data": {
      "text/plain": [
       "Price      0\n",
       "Year       0\n",
       "Mileage    0\n",
       "City       0\n",
       "State      0\n",
       "Vin        0\n",
       "Make       0\n",
       "Model      0\n",
       "dtype: int64"
      ]
     },
     "execution_count": 5,
     "metadata": {},
     "output_type": "execute_result"
    }
   ],
   "source": [
    "df.isnull().sum()"
   ]
  },
  {
   "cell_type": "markdown",
   "metadata": {},
   "source": [
    "Отлично, пропусков нет"
   ]
  },
  {
   "cell_type": "markdown",
   "metadata": {},
   "source": [
    "Посмотрим распределения, но, как мы видим, у нас только 3 численных переменных(Price, Year, Mileage), остальные категориальные.<br>\n",
    "для них нет смысла что-то нормаровать и тд, так что мы их трогать не будем."
   ]
  },
  {
   "cell_type": "code",
   "execution_count": 6,
   "metadata": {
    "scrolled": false
   },
   "outputs": [
    {
     "data": {
      "image/png": "[encoded data removed]",
      "text/plain": [
       "<Figure size 700x500 with 1 Axes>"
      ]
     },
     "metadata": {
      "needs_background": "light"
     },
     "output_type": "display_data"
    },
    {
     "data": {
      "image/png": "[encoded data removed]",
      "text/plain": [
       "<Figure size 700x500 with 1 Axes>"
      ]
     },
     "metadata": {
      "needs_background": "light"
     },
     "output_type": "display_data"
    },
    {
     "data": {
      "image/png": "[encoded data removed]",
      "text/plain": [
       "<Figure size 700x500 with 1 Axes>"
      ]
     },
     "metadata": {
      "needs_background": "light"
     },
     "output_type": "display_data"
    }
   ],
   "source": [
    "for column in ['Price', 'Year', 'Mileage']:\n",
    "    plt.hist(df[column], bins=100)\n",
    "    plt.title(column)\n",
    "    plt.show()"
   ]
  },
  {
   "cell_type": "markdown",
   "metadata": {},
   "source": [
    "Это гистограммы распределения численных признаков, как мы видим, у Price и Mileage есть гигантские выбросы. Давайте их ображем.\n",
    "Так как эти выбросы справа, давайте просто найдем 95 квантиль и по нему обрежем."
   ]
  },
  {
   "cell_type": "code",
   "execution_count": 7,
   "metadata": {},
   "outputs": [
    {
     "data": {
      "text/plain": [
       "{'Price': 43300.0, 'Mileage': 134299.0}"
      ]
     },
     "execution_count": 7,
     "metadata": {},
     "output_type": "execute_result"
    }
   ],
   "source": [
    "quantiles = {}\n",
    "for i in ['Price','Mileage']:\n",
    "    quantiles[i] = df[i].quantile(0.95)\n",
    "quantiles"
   ]
  },
  {
   "cell_type": "markdown",
   "metadata": {},
   "source": [
    "Квантили нашли. Обрезаем:"
   ]
  },
  {
   "cell_type": "code",
   "execution_count": 8,
   "metadata": {
    "scrolled": false
   },
   "outputs": [
    {
     "name": "stdout",
     "output_type": "stream",
     "text": [
      "Количесво элементов, после удаления выбросов: 766936\n"
     ]
    },
    {
     "data": {
      "image/png": "[encoded data removed]",
      "text/plain": [
       "<Figure size 700x500 with 1 Axes>"
      ]
     },
     "metadata": {
      "needs_background": "light"
     },
     "output_type": "display_data"
    },
    {
     "data": {
      "image/png": "[encoded data removed]",
      "text/plain": [
       "<Figure size 700x500 with 1 Axes>"
      ]
     },
     "metadata": {
      "needs_background": "light"
     },
     "output_type": "display_data"
    },
    {
     "data": {
      "image/png": "[encoded data removed]",
      "text/plain": [
       "<Figure size 700x500 with 1 Axes>"
      ]
     },
     "metadata": {
      "needs_background": "light"
     },
     "output_type": "display_data"
    }
   ],
   "source": [
    "df_jew = df[(df['Price'] < quantiles['Price']) & (df['Mileage'] < quantiles['Mileage'])]\n",
    "print(f'Количесво элементов, после удаления выбросов: {df_jew.count().values[0]}')\n",
    "for column in ['Price', 'Year', 'Mileage']:\n",
    "    plt.hist(df_jew[column], bins=50)\n",
    "    plt.title(column)\n",
    "    plt.show()"
   ]
  },
  {
   "cell_type": "markdown",
   "metadata": {},
   "source": [
    "Это снова гистограммы численных признаков"
   ]
  },
  {
   "cell_type": "code",
   "execution_count": 9,
   "metadata": {},
   "outputs": [
    {
     "name": "stdout",
     "output_type": "stream",
     "text": [
      "Сколько данных мы потеряли: 0.09996925322899775\n"
     ]
    }
   ],
   "source": [
    "print(f'Сколько данных мы потеряли: {1 - df_jew.count().values[0]/df.count().values[0]}')"
   ]
  },
  {
   "cell_type": "markdown",
   "metadata": {},
   "source": [
    "Ну во, потеряли всего 10% при этом все ствло сильно лучше. Осталось привести к нормальному виду.<br>\n",
    "Только перед этим давайте разберемся с категориальными значениями. и дропнем vin, т.к. он уникален для каждой машины."
   ]
  },
  {
   "cell_type": "code",
   "execution_count": 10,
   "metadata": {},
   "outputs": [
    {
     "data": {
      "text/html": [
       "<div>\n",
       "<style scoped>\n",
       "    .dataframe tbody tr th:only-of-type {\n",
       "        vertical-align: middle;\n",
       "    }\n",
       "\n",
       "    .dataframe tbody tr th {\n",
       "        vertical-align: top;\n",
       "    }\n",
       "\n",
       "    .dataframe thead th {\n",
       "        text-align: right;\n",
       "    }\n",
       "</style>\n",
       "<table border=\"1\" class=\"dataframe\">\n",
       "  <thead>\n",
       "    <tr style=\"text-align: right;\">\n",
       "      <th></th>\n",
       "      <th>Price</th>\n",
       "      <th>Year</th>\n",
       "      <th>Mileage</th>\n",
       "      <th>City</th>\n",
       "      <th>State</th>\n",
       "      <th>Vin</th>\n",
       "      <th>Make</th>\n",
       "      <th>Model</th>\n",
       "    </tr>\n",
       "  </thead>\n",
       "  <tbody>\n",
       "    <tr>\n",
       "      <th>0</th>\n",
       "      <td>8995</td>\n",
       "      <td>2014</td>\n",
       "      <td>35725</td>\n",
       "      <td>El Paso</td>\n",
       "      <td>TX</td>\n",
       "      <td>19VDE2E53EE000083</td>\n",
       "      <td>Acura</td>\n",
       "      <td>ILX6-Speed</td>\n",
       "    </tr>\n",
       "    <tr>\n",
       "      <th>1</th>\n",
       "      <td>10888</td>\n",
       "      <td>2013</td>\n",
       "      <td>19606</td>\n",
       "      <td>Long Island City</td>\n",
       "      <td>NY</td>\n",
       "      <td>19VDE1F52DE012636</td>\n",
       "      <td>Acura</td>\n",
       "      <td>ILX5-Speed</td>\n",
       "    </tr>\n",
       "    <tr>\n",
       "      <th>2</th>\n",
       "      <td>8995</td>\n",
       "      <td>2013</td>\n",
       "      <td>48851</td>\n",
       "      <td>El Paso</td>\n",
       "      <td>TX</td>\n",
       "      <td>19VDE2E52DE000025</td>\n",
       "      <td>Acura</td>\n",
       "      <td>ILX6-Speed</td>\n",
       "    </tr>\n",
       "    <tr>\n",
       "      <th>3</th>\n",
       "      <td>10999</td>\n",
       "      <td>2014</td>\n",
       "      <td>39922</td>\n",
       "      <td>Windsor</td>\n",
       "      <td>CO</td>\n",
       "      <td>19VDE1F71EE003817</td>\n",
       "      <td>Acura</td>\n",
       "      <td>ILX5-Speed</td>\n",
       "    </tr>\n",
       "    <tr>\n",
       "      <th>4</th>\n",
       "      <td>14799</td>\n",
       "      <td>2016</td>\n",
       "      <td>22142</td>\n",
       "      <td>Lindon</td>\n",
       "      <td>UT</td>\n",
       "      <td>19UDE2F32GA001284</td>\n",
       "      <td>Acura</td>\n",
       "      <td>ILXAutomatic</td>\n",
       "    </tr>\n",
       "  </tbody>\n",
       "</table>\n",
       "</div>"
      ],
      "text/plain": [
       "   Price  Year  Mileage              City State                Vin   Make  \\\n",
       "0   8995  2014    35725           El Paso    TX  19VDE2E53EE000083  Acura   \n",
       "1  10888  2013    19606  Long Island City    NY  19VDE1F52DE012636  Acura   \n",
       "2   8995  2013    48851           El Paso    TX  19VDE2E52DE000025  Acura   \n",
       "3  10999  2014    39922           Windsor    CO  19VDE1F71EE003817  Acura   \n",
       "4  14799  2016    22142            Lindon    UT  19UDE2F32GA001284  Acura   \n",
       "\n",
       "          Model  \n",
       "0    ILX6-Speed  \n",
       "1    ILX5-Speed  \n",
       "2    ILX6-Speed  \n",
       "3    ILX5-Speed  \n",
       "4  ILXAutomatic  "
      ]
     },
     "execution_count": 10,
     "metadata": {},
     "output_type": "execute_result"
    }
   ],
   "source": [
    "df_jew.head()"
   ]
  },
  {
   "cell_type": "code",
   "execution_count": 11,
   "metadata": {},
   "outputs": [
    {
     "name": "stderr",
     "output_type": "stream",
     "text": [
      "C:\\Users\\Dima\\anaconda3\\lib\\site-packages\\pandas\\core\\frame.py:4163: SettingWithCopyWarning: \n",
      "A value is trying to be set on a copy of a slice from a DataFrame\n",
      "\n",
      "See the caveats in the documentation: https://pandas.pydata.org/pandas-docs/stable/user_guide/indexing.html#returning-a-view-versus-a-copy\n",
      "  return super().drop(\n"
     ]
    }
   ],
   "source": [
    "df_jew.drop('Vin', axis=1, inplace=True)"
   ]
  },
  {
   "cell_type": "code",
   "execution_count": 12,
   "metadata": {},
   "outputs": [
    {
     "name": "stderr",
     "output_type": "stream",
     "text": [
      "<ipython-input-12-48fc03e15da9>:4: SettingWithCopyWarning: \n",
      "A value is trying to be set on a copy of a slice from a DataFrame.\n",
      "Try using .loc[row_indexer,col_indexer] = value instead\n",
      "\n",
      "See the caveats in the documentation: https://pandas.pydata.org/pandas-docs/stable/user_guide/indexing.html#returning-a-view-versus-a-copy\n",
      "  df_jew[column] = le.fit_transform(df_jew[column])\n"
     ]
    },
    {
     "name": "stdout",
     "output_type": "stream",
     "text": [
      "City: 2552\n",
      "State: 59\n",
      "Make: 53\n",
      "Model: 2425\n"
     ]
    },
    {
     "data": {
      "text/html": [
       "<div>\n",
       "<style scoped>\n",
       "    .dataframe tbody tr th:only-of-type {\n",
       "        vertical-align: middle;\n",
       "    }\n",
       "\n",
       "    .dataframe tbody tr th {\n",
       "        vertical-align: top;\n",
       "    }\n",
       "\n",
       "    .dataframe thead th {\n",
       "        text-align: right;\n",
       "    }\n",
       "</style>\n",
       "<table border=\"1\" class=\"dataframe\">\n",
       "  <thead>\n",
       "    <tr style=\"text-align: right;\">\n",
       "      <th></th>\n",
       "      <th>Price</th>\n",
       "      <th>Year</th>\n",
       "      <th>Mileage</th>\n",
       "      <th>City</th>\n",
       "      <th>State</th>\n",
       "      <th>Make</th>\n",
       "      <th>Model</th>\n",
       "    </tr>\n",
       "  </thead>\n",
       "  <tbody>\n",
       "    <tr>\n",
       "      <th>0</th>\n",
       "      <td>8995</td>\n",
       "      <td>2014</td>\n",
       "      <td>35725</td>\n",
       "      <td>646</td>\n",
       "      <td>49</td>\n",
       "      <td>1</td>\n",
       "      <td>1037</td>\n",
       "    </tr>\n",
       "    <tr>\n",
       "      <th>1</th>\n",
       "      <td>10888</td>\n",
       "      <td>2013</td>\n",
       "      <td>19606</td>\n",
       "      <td>1259</td>\n",
       "      <td>39</td>\n",
       "      <td>1</td>\n",
       "      <td>1036</td>\n",
       "    </tr>\n",
       "    <tr>\n",
       "      <th>2</th>\n",
       "      <td>8995</td>\n",
       "      <td>2013</td>\n",
       "      <td>48851</td>\n",
       "      <td>646</td>\n",
       "      <td>49</td>\n",
       "      <td>1</td>\n",
       "      <td>1037</td>\n",
       "    </tr>\n",
       "    <tr>\n",
       "      <th>3</th>\n",
       "      <td>10999</td>\n",
       "      <td>2014</td>\n",
       "      <td>39922</td>\n",
       "      <td>2489</td>\n",
       "      <td>6</td>\n",
       "      <td>1</td>\n",
       "      <td>1036</td>\n",
       "    </tr>\n",
       "    <tr>\n",
       "      <th>4</th>\n",
       "      <td>14799</td>\n",
       "      <td>2016</td>\n",
       "      <td>22142</td>\n",
       "      <td>1230</td>\n",
       "      <td>50</td>\n",
       "      <td>1</td>\n",
       "      <td>1039</td>\n",
       "    </tr>\n",
       "  </tbody>\n",
       "</table>\n",
       "</div>"
      ],
      "text/plain": [
       "   Price  Year  Mileage  City  State  Make  Model\n",
       "0   8995  2014    35725   646     49     1   1037\n",
       "1  10888  2013    19606  1259     39     1   1036\n",
       "2   8995  2013    48851   646     49     1   1037\n",
       "3  10999  2014    39922  2489      6     1   1036\n",
       "4  14799  2016    22142  1230     50     1   1039"
      ]
     },
     "execution_count": 12,
     "metadata": {},
     "output_type": "execute_result"
    }
   ],
   "source": [
    "for column in df_jew.columns:\n",
    "    if df_jew[column].dtype == 'object':\n",
    "        le = LabelEncoder()\n",
    "        df_jew[column] = le.fit_transform(df_jew[column])\n",
    "        print(f'{column}: {df_jew[column].nunique()}')\n",
    "df_jew.head()"
   ]
  },
  {
   "cell_type": "markdown",
   "metadata": {},
   "source": [
    "Хочу перед тем как начать нормировать посмотреть на корреляцию"
   ]
  },
  {
   "cell_type": "code",
   "execution_count": 13,
   "metadata": {},
   "outputs": [
    {
     "data": {
      "text/plain": [
       "<AxesSubplot:>"
      ]
     },
     "execution_count": 13,
     "metadata": {},
     "output_type": "execute_result"
    },
    {
     "data": {
      "image/png": "[encoded data removed]",
      "text/plain": [
       "<Figure size 700x500 with 2 Axes>"
      ]
     },
     "metadata": {
      "needs_background": "light"
     },
     "output_type": "display_data"
    }
   ],
   "source": [
    "sns.heatmap(df_jew.corr())"
   ]
  },
  {
   "cell_type": "markdown",
   "metadata": {},
   "source": [
    "корреляция Year-Price и Mileage-Price - нас не смущает, но наличие корреляции между признаками Mileage-Year - не очень хорошо. Давайте посмотрим, насколько там все линейно."
   ]
  },
  {
   "cell_type": "code",
   "execution_count": 14,
   "metadata": {},
   "outputs": [
    {
     "data": {
      "text/plain": [
       "array([4620311.03673719,  998240.2330615 ,   18526.59161303])"
      ]
     },
     "execution_count": 14,
     "metadata": {},
     "output_type": "execute_result"
    }
   ],
   "source": [
    "_, sing, _ = np.linalg.svd(df_jew[['Price', 'Year', 'Mileage']].head(5000))\n",
    "sing"
   ]
  },
  {
   "cell_type": "code",
   "execution_count": 15,
   "metadata": {},
   "outputs": [
    {
     "data": {
      "text/plain": [
       "array([4.62221852e+06, 1.00064037e+06, 5.46165455e+04, 2.58041959e+04,\n",
       "       1.64416119e+04, 1.19603877e+03, 5.42779990e-02])"
      ]
     },
     "execution_count": 15,
     "metadata": {},
     "output_type": "execute_result"
    }
   ],
   "source": [
    "_, sing, _ = np.linalg.svd(df_jew.head(5000))\n",
    "sing"
   ]
  },
  {
   "cell_type": "markdown",
   "metadata": {},
   "source": [
    "Отсутсвие нулевых сингулярных чисел, разрешает нам, на мой вкус, принять эвристику, что в данных нет сильной линейной зависимости (будем число неотличимым от машинного нуля при 10**-9)"
   ]
  },
  {
   "cell_type": "markdown",
   "metadata": {},
   "source": [
    "<h3>Наш дальнейший план:</h3>\n",
    "1) Построить модельки без приведения к нормальному виду и нормализации. <b>++++</b><br>\n",
    "2) Построить модельки с приведением к нормальному виду и нормализацией. <b>++++</b> <br>"
   ]
  },
  {
   "cell_type": "code",
   "execution_count": 16,
   "metadata": {},
   "outputs": [],
   "source": [
    "xtrain, xtest, ytrain, ytest = train_test_split(df_jew.drop('Price', axis=1), df_jew.Price, test_size=0.2, random_state=42)"
   ]
  },
  {
   "cell_type": "code",
   "execution_count": 17,
   "metadata": {},
   "outputs": [
    {
     "name": "stdout",
     "output_type": "stream",
     "text": [
      "LinearRegression()\n",
      "cross val score mean: 0.2630339720491948\n",
      "test score: 0.2642563239730833\n",
      "Wall time: 469 ms\n"
     ]
    }
   ],
   "source": [
    "%%time\n",
    "model = LinearRegression()\n",
    "print(model)\n",
    "cross_score = cross_val_score(model, xtrain, ytrain)\n",
    "print(f'cross val score mean: {cross_score.mean()}')\n",
    "model.fit(xtrain, ytrain)\n",
    "print(f'test score: {model.score(xtest, ytest)}')"
   ]
  },
  {
   "cell_type": "code",
   "execution_count": 18,
   "metadata": {},
   "outputs": [
    {
     "name": "stdout",
     "output_type": "stream",
     "text": [
      "XGBRegressor(base_score=None, booster=None, colsample_bylevel=None,\n",
      "             colsample_bynode=None, colsample_bytree=None,\n",
      "             enable_categorical=False, gamma=None, gpu_id=None,\n",
      "             importance_type=None, interaction_constraints=None,\n",
      "             learning_rate=None, max_delta_step=None, max_depth=None,\n",
      "             min_child_weight=None, missing=nan, monotone_constraints=None,\n",
      "             n_estimators=100, n_jobs=-1, num_parallel_tree=None,\n",
      "             predictor=None, random_state=None, reg_alpha=None, reg_lambda=None,\n",
      "             scale_pos_weight=None, subsample=None, tree_method=None,\n",
      "             validate_parameters=None, verbosity=None)\n",
      "cross val score mean: 0.882158186610206\n",
      "test score: 0.8840723905402464\n",
      "Wall time: 39 s\n"
     ]
    }
   ],
   "source": [
    "%%time\n",
    "model = XGBRegressor(n_jobs=-1)\n",
    "print(model)\n",
    "cross_score = cross_val_score(model, xtrain, ytrain, n_jobs=-1)\n",
    "print(f'cross val score mean: {cross_score.mean()}')\n",
    "model.fit(xtrain, ytrain)\n",
    "print(f'test score: {model.score(xtest, ytest)}')"
   ]
  },
  {
   "cell_type": "markdown",
   "metadata": {},
   "source": [
    "Если что мы работаем с метрикой <b>R^2</b>, https://scikit-learn.org/stable/modules/model_evaluation.html#r2-score-the-coefficient-of-determination<br>\n",
    "Чем она ближе к 1, тем лучше. Давайте поподбираем параметры."
   ]
  },
  {
   "cell_type": "markdown",
   "metadata": {},
   "source": [
    "Давайте нашу тренировочную выборку разделим на две, тренировчную и валидационную, что бы было можно было потом посмотреть, на чистых данных наш результат."
   ]
  },
  {
   "cell_type": "code",
   "execution_count": 19,
   "metadata": {},
   "outputs": [],
   "source": [
    "xtrain1, xtest1, ytrain1, ytest1 = train_test_split(xtrain, ytrain, test_size=0.2, random_state=42)"
   ]
  },
  {
   "cell_type": "markdown",
   "metadata": {},
   "source": [
    "Давайте посмотрим на точности от количества деревьев и их глибины в бустинге."
   ]
  },
  {
   "cell_type": "code",
   "execution_count": 20,
   "metadata": {},
   "outputs": [
    {
     "name": "stdout",
     "output_type": "stream",
     "text": [
      "model: XGBRegressor; estimators: 10; depth: 1; Test score: 0.24900968239344035\n",
      "model: XGBRegressor; estimators: 50; depth: 1; Test score: 0.35494776775425974\n",
      "model: XGBRegressor; estimators: 100; depth: 1; Test score: 0.40342352735438836\n",
      "model: XGBRegressor; estimators: 10; depth: 2; Test score: 0.34157343154323727\n",
      "model: XGBRegressor; estimators: 50; depth: 2; Test score: 0.6104970118461523\n",
      "model: XGBRegressor; estimators: 100; depth: 2; Test score: 0.6930220067571669\n",
      "model: XGBRegressor; estimators: 10; depth: 3; Test score: 0.45471524169152466\n",
      "model: XGBRegressor; estimators: 50; depth: 3; Test score: 0.7252711505644227\n",
      "model: XGBRegressor; estimators: 100; depth: 3; Test score: 0.796103771264042\n",
      "model: XGBRegressor; estimators: 10; depth: 4; Test score: 0.49811568673710593\n",
      "model: XGBRegressor; estimators: 50; depth: 4; Test score: 0.7842097817647546\n",
      "model: XGBRegressor; estimators: 100; depth: 4; Test score: 0.8390953767014148\n",
      "model: XGBRegressor; estimators: 10; depth: 5; Test score: 0.587675769314075\n",
      "model: XGBRegressor; estimators: 50; depth: 5; Test score: 0.8302537087895078\n",
      "model: XGBRegressor; estimators: 100; depth: 5; Test score: 0.8670615116128105\n",
      "model: XGBRegressor; estimators: 10; depth: 6; Test score: 0.6702107140098306\n",
      "model: XGBRegressor; estimators: 50; depth: 6; Test score: 0.8543093388765273\n",
      "model: XGBRegressor; estimators: 100; depth: 6; Test score: 0.880642061426042\n",
      "model: XGBRegressor; estimators: 10; depth: 7; Test score: 0.7127790888114263\n",
      "model: XGBRegressor; estimators: 50; depth: 7; Test score: 0.8718555746222825\n",
      "model: XGBRegressor; estimators: 100; depth: 7; Test score: 0.8928171279440509\n",
      "model: XGBRegressor; estimators: 10; depth: 8; Test score: 0.7754078389452439\n",
      "model: XGBRegressor; estimators: 50; depth: 8; Test score: 0.885410382455563\n",
      "model: XGBRegressor; estimators: 100; depth: 8; Test score: 0.8992978103122762\n",
      "model: XGBRegressor; estimators: 10; depth: 9; Test score: 0.8075974797131538\n",
      "model: XGBRegressor; estimators: 50; depth: 9; Test score: 0.8928783125176225\n",
      "model: XGBRegressor; estimators: 100; depth: 9; Test score: 0.9025367695288794\n",
      "model: XGBRegressor; estimators: 10; depth: 10; Test score: 0.8350438814224024\n",
      "model: XGBRegressor; estimators: 50; depth: 10; Test score: 0.899828930523863\n",
      "model: XGBRegressor; estimators: 100; depth: 10; Test score: 0.9058388160490289\n",
      "Wall time: 2min 43s\n"
     ]
    }
   ],
   "source": [
    "%%time\n",
    "scores_rf = pd.DataFrame({'estimators':[], 'depth': [], 'score_r2': []})\n",
    "for depth in range(1,11):\n",
    "    for estimators in [10,50,100]:\n",
    "        model = XGBRegressor(n_jobs=-1, n_estimators=estimators, max_depth=depth)\n",
    "        model.fit(xtrain1, ytrain1)\n",
    "        score = model.score(xtest1, ytest1)\n",
    "        print(f'model: XGBRegressor; estimators: {estimators}; depth: {depth}; Test score: {score}')\n",
    "        scores_rf = scores_rf.append({'estimators':estimators, 'depth': depth, 'score_r2': score}, ignore_index=True)"
   ]
  },
  {
   "cell_type": "code",
   "execution_count": 21,
   "metadata": {},
   "outputs": [
    {
     "name": "stdout",
     "output_type": "stream",
     "text": [
      "       estimators  score_r2\n",
      "depth                      \n",
      "1.0          10.0  0.249010\n",
      "2.0          10.0  0.341573\n",
      "3.0          10.0  0.454715\n",
      "4.0          10.0  0.498116\n",
      "5.0          10.0  0.587676\n",
      "6.0          10.0  0.670211\n",
      "7.0          10.0  0.712779\n",
      "8.0          10.0  0.775408\n",
      "9.0          10.0  0.807597\n",
      "10.0         10.0  0.835044\n",
      "       estimators  score_r2\n",
      "depth                      \n",
      "1.0         100.0  0.403424\n",
      "2.0         100.0  0.693022\n",
      "3.0         100.0  0.796104\n",
      "4.0         100.0  0.839095\n",
      "5.0         100.0  0.867062\n",
      "6.0         100.0  0.880642\n",
      "7.0         100.0  0.892817\n",
      "8.0         100.0  0.899298\n",
      "9.0         100.0  0.902537\n",
      "10.0        100.0  0.905839\n"
     ]
    }
   ],
   "source": [
    "print(scores_rf.groupby(['depth']).min())\n",
    "print(scores_rf.groupby(['depth']).max())"
   ]
  },
  {
   "cell_type": "markdown",
   "metadata": {},
   "source": [
    "как мы видим ту влияют и глубина и количество деревьев"
   ]
  },
  {
   "cell_type": "markdown",
   "metadata": {},
   "source": [
    "Давайте тогда возьмем какое-нибудь большое число деревьев и не будем ограничевать глубину."
   ]
  },
  {
   "cell_type": "code",
   "execution_count": 22,
   "metadata": {},
   "outputs": [
    {
     "name": "stdout",
     "output_type": "stream",
     "text": [
      "model: XGBRegressor; estimators: 1000; Train score: 0.930178830783998; Valid score: 0.9104515620108564; Test score: 0.9058388160490289\n",
      "Wall time: 1min 38s\n"
     ]
    }
   ],
   "source": [
    "%%time\n",
    "n_estimators = 1000\n",
    "model = XGBRegressor(n_jobs=-1, n_estimators=n_estimators)\n",
    "model.fit(xtrain1, ytrain1)\n",
    "train_score = model.score(xtrain1, ytrain1)\n",
    "valid_score = model.score(xtest1, ytest1)\n",
    "test_score = model.score(xtest, ytest)\n",
    "print(f'model: XGBRegressor; estimators: {n_estimators}; Train score: {train_score}; Valid score: {valid_score}; Test score: {score}')"
   ]
  },
  {
   "cell_type": "markdown",
   "metadata": {},
   "source": [
    "как мы видим, небольшое переобучение присутсвует, но результат не плох. и он точно лучше чем при меньшем количестве деревьев."
   ]
  },
  {
   "cell_type": "code",
   "execution_count": 23,
   "metadata": {},
   "outputs": [],
   "source": [
    "df_result = pd.DataFrame({'pred': model.predict(xtest), 'true': ytest})\n",
    "df_result = df_result.sort_values('true').reset_index()\n",
    "df_result['diff'] = df_result.pred - df_result.true"
   ]
  },
  {
   "cell_type": "code",
   "execution_count": 24,
   "metadata": {},
   "outputs": [
    {
     "data": {
      "text/plain": [
       "[<matplotlib.lines.Line2D at 0x2dca4e96460>]"
      ]
     },
     "execution_count": 24,
     "metadata": {},
     "output_type": "execute_result"
    },
    {
     "data": {
      "image/png": "[encoded data removed]",
      "text/plain": [
       "<Figure size 700x500 with 1 Axes>"
      ]
     },
     "metadata": {
      "needs_background": "light"
     },
     "output_type": "display_data"
    }
   ],
   "source": [
    "plt.plot(df_result.index, df_result.pred)\n",
    "plt.plot(df_result.index, df_result.true)"
   ]
  },
  {
   "cell_type": "markdown",
   "metadata": {},
   "source": [
    "<em> это ответы на нашей тестовой выборке, оранжевые - реальные, синие - предсказанные </em>"
   ]
  },
  {
   "cell_type": "markdown",
   "metadata": {},
   "source": [
    "выглядит это конечно не столь радостно, как выглядел результат, но как минимум, оно явно угадывает тенденцию."
   ]
  },
  {
   "cell_type": "code",
   "execution_count": 25,
   "metadata": {},
   "outputs": [
    {
     "data": {
      "text/plain": [
       "(array([1.0000e+00, 0.0000e+00, 0.0000e+00, 0.0000e+00, 0.0000e+00,\n",
       "        0.0000e+00, 0.0000e+00, 0.0000e+00, 0.0000e+00, 0.0000e+00,\n",
       "        0.0000e+00, 1.0000e+00, 0.0000e+00, 0.0000e+00, 0.0000e+00,\n",
       "        4.0000e+00, 9.0000e+00, 1.8000e+01, 3.3000e+01, 4.0000e+01,\n",
       "        5.5000e+01, 8.2000e+01, 1.2900e+02, 1.9000e+02, 2.8000e+02,\n",
       "        5.2100e+02, 9.6100e+02, 1.7800e+03, 3.0830e+03, 5.9740e+03,\n",
       "        1.2165e+04, 2.3962e+04, 3.9236e+04, 3.3829e+04, 1.7429e+04,\n",
       "        7.4120e+03, 3.1960e+03, 1.4590e+03, 7.2400e+02, 3.7000e+02,\n",
       "        1.9200e+02, 1.0600e+02, 6.2000e+01, 4.0000e+01, 2.7000e+01,\n",
       "        8.0000e+00, 4.0000e+00, 3.0000e+00, 2.0000e+00, 1.0000e+00]),\n",
       " array([-39073.473  , -37875.08   , -36676.684  , -35478.29   ,\n",
       "        -34279.895  , -33081.5    , -31883.104  , -30684.709  ,\n",
       "        -29486.312  , -28287.918  , -27089.523  , -25891.129  ,\n",
       "        -24692.734  , -23494.338  , -22295.943  , -21097.549  ,\n",
       "        -19899.154  , -18700.76   , -17502.363  , -16303.969  ,\n",
       "        -15105.574  , -13907.18   , -12708.784  , -11510.39   ,\n",
       "        -10311.994  ,  -9113.6    ,  -7915.2046 ,  -6716.8096 ,\n",
       "         -5518.415  ,  -4320.02   ,  -3121.625  ,  -1923.2301 ,\n",
       "          -724.83514,    473.55975,   1671.9547 ,   2870.3496 ,\n",
       "          4068.7446 ,   5267.1396 ,   6465.534  ,   7663.929  ,\n",
       "          8862.324  ,  10060.719  ,  11259.114  ,  12457.509  ,\n",
       "         13655.904  ,  14854.299  ,  16052.693  ,  17251.088  ,\n",
       "         18449.484  ,  19647.879  ,  20846.273  ], dtype=float32),\n",
       " <BarContainer object of 50 artists>)"
      ]
     },
     "execution_count": 25,
     "metadata": {},
     "output_type": "execute_result"
    },
    {
     "data": {
      "image/png": "[encoded data removed]",
      "text/plain": [
       "<Figure size 700x500 with 1 Axes>"
      ]
     },
     "metadata": {
      "needs_background": "light"
     },
     "output_type": "display_data"
    }
   ],
   "source": [
    "plt.hist(df_result['diff'], bins=50)"
   ]
  },
  {
   "cell_type": "code",
   "execution_count": 26,
   "metadata": {},
   "outputs": [
    {
     "data": {
      "text/plain": [
       "(7.166159629821777, 2548.87109375)"
      ]
     },
     "execution_count": 26,
     "metadata": {},
     "output_type": "execute_result"
    }
   ],
   "source": [
    "df_result['diff'].mean(), df_result['diff'].std()"
   ]
  },
  {
   "cell_type": "markdown",
   "metadata": {},
   "source": [
    "### Пока можно сказать, что, результаты не плохи, но дисперсия великовата. Давайте повторим наши изыскания для данных приведенных к нормальному виду.\n",
    "\n",
    "\n",
    "\n",
    "\n",
    "\n"
   ]
  },
  {
   "cell_type": "code",
   "execution_count": 27,
   "metadata": {},
   "outputs": [],
   "source": [
    "from sklearn.preprocessing import PowerTransformer"
   ]
  },
  {
   "cell_type": "code",
   "execution_count": 28,
   "metadata": {},
   "outputs": [],
   "source": [
    "df_new_jew = df_jew.copy()"
   ]
  },
  {
   "cell_type": "code",
   "execution_count": 29,
   "metadata": {},
   "outputs": [
    {
     "name": "stderr",
     "output_type": "stream",
     "text": [
      "C:\\Users\\Dima\\anaconda3\\lib\\site-packages\\sklearn\\preprocessing\\_data.py:2960: RuntimeWarning: overflow encountered in power\n",
      "  out[pos] = (np.power(x[pos] + 1, lmbda) - 1) / lmbda\n",
      "C:\\Users\\Dima\\anaconda3\\lib\\site-packages\\numpy\\core\\_methods.py:235: RuntimeWarning: overflow encountered in multiply\n",
      "  x = um.multiply(x, x, out=x)\n",
      "C:\\Users\\Dima\\anaconda3\\lib\\site-packages\\numpy\\core\\_methods.py:246: RuntimeWarning: overflow encountered in reduce\n",
      "  ret = umr_sum(x, axis, dtype, out, keepdims=keepdims, where=where)\n"
     ]
    }
   ],
   "source": [
    "for column in ['Year', 'Mileage']:\n",
    "    df_new_jew[column] = PowerTransformer().fit_transform(np.log(np.array(df_jew[column]).reshape(-1, 1)))"
   ]
  },
  {
   "cell_type": "code",
   "execution_count": 30,
   "metadata": {},
   "outputs": [
    {
     "name": "stdout",
     "output_type": "stream",
     "text": [
      "Year. Mean: -9.603356608872716e-14, Std: 1.0000006519491753\n"
     ]
    },
    {
     "data": {
      "image/png": "[encoded data removed]",
      "text/plain": [
       "<Figure size 700x500 with 1 Axes>"
      ]
     },
     "metadata": {
      "needs_background": "light"
     },
     "output_type": "display_data"
    },
    {
     "name": "stdout",
     "output_type": "stream",
     "text": [
      "Mileage. Mean: -7.730952860487248e-16, Std: 1.0000006519455211\n"
     ]
    },
    {
     "data": {
      "image/png": "[encoded data removed]",
      "text/plain": [
       "<Figure size 700x500 with 1 Axes>"
      ]
     },
     "metadata": {
      "needs_background": "light"
     },
     "output_type": "display_data"
    }
   ],
   "source": [
    "for column in ['Year', 'Mileage']:\n",
    "    print(f'{column}. Mean: {df_new_jew[column].mean()}, Std: {df_new_jew[column].std()}')\n",
    "    plt.hist(df_new_jew[column], bins=20)\n",
    "    plt.title(column)\n",
    "    plt.show()"
   ]
  },
  {
   "cell_type": "markdown",
   "metadata": {},
   "source": [
    "Прикроем глаза и будем считать, что они нормально распределены + среднее 0 и дисперсия 1."
   ]
  },
  {
   "cell_type": "code",
   "execution_count": 31,
   "metadata": {},
   "outputs": [
    {
     "name": "stdout",
     "output_type": "stream",
     "text": [
      "Price. Mean: 1.35929650573019e-15, Std: 1.0000006519453053\n"
     ]
    },
    {
     "data": {
      "image/png": "[encoded data removed]",
      "text/plain": [
       "<Figure size 700x500 with 1 Axes>"
      ]
     },
     "metadata": {
      "needs_background": "light"
     },
     "output_type": "display_data"
    }
   ],
   "source": [
    "column = 'Price'\n",
    "price_transform = PowerTransformer()\n",
    "df_new_jew[column] = price_transform.fit_transform(np.array(df_jew[column]).reshape(-1, 1))\n",
    "print(f'{column}. Mean: {df_new_jew[column].mean()}, Std: {df_new_jew[column].std()}')\n",
    "plt.hist(df_new_jew[column], bins=20)\n",
    "plt.title(column)\n",
    "plt.show()"
   ]
  },
  {
   "cell_type": "markdown",
   "metadata": {},
   "source": [
    "Сойдет"
   ]
  },
  {
   "cell_type": "code",
   "execution_count": 32,
   "metadata": {},
   "outputs": [],
   "source": [
    "xtrain, xtest, ytrain, ytest = train_test_split(df_new_jew.drop('Price', axis=1), df_new_jew.Price, test_size=0.2, random_state=42)\n",
    "xtrain1, xtest1, ytrain1, ytest1 = train_test_split(xtrain, ytrain, test_size=0.2, random_state=42)"
   ]
  },
  {
   "cell_type": "code",
   "execution_count": 33,
   "metadata": {},
   "outputs": [
    {
     "name": "stdout",
     "output_type": "stream",
     "text": [
      "model: XGBRegressor; estimators: 10; depth: 1; Test score: 0.29297538399174505\n",
      "model: XGBRegressor; estimators: 50; depth: 1; Test score: 0.39488756183791973\n",
      "model: XGBRegressor; estimators: 100; depth: 1; Test score: 0.441306535544684\n",
      "model: XGBRegressor; estimators: 10; depth: 2; Test score: 0.3688487762622886\n",
      "model: XGBRegressor; estimators: 50; depth: 2; Test score: 0.6381873614760893\n",
      "model: XGBRegressor; estimators: 100; depth: 2; Test score: 0.7204597898085217\n",
      "model: XGBRegressor; estimators: 10; depth: 3; Test score: 0.4298900942215754\n",
      "model: XGBRegressor; estimators: 50; depth: 3; Test score: 0.7379109970512129\n",
      "model: XGBRegressor; estimators: 100; depth: 3; Test score: 0.808075189595676\n",
      "model: XGBRegressor; estimators: 10; depth: 4; Test score: 0.5507736528962976\n",
      "model: XGBRegressor; estimators: 50; depth: 4; Test score: 0.8058806182083801\n",
      "model: XGBRegressor; estimators: 100; depth: 4; Test score: 0.854286242970308\n",
      "model: XGBRegressor; estimators: 10; depth: 5; Test score: 0.6449678156301959\n",
      "model: XGBRegressor; estimators: 50; depth: 5; Test score: 0.8435690355514852\n",
      "model: XGBRegressor; estimators: 100; depth: 5; Test score: 0.877990724750904\n",
      "model: XGBRegressor; estimators: 10; depth: 6; Test score: 0.6824891619742891\n",
      "model: XGBRegressor; estimators: 50; depth: 6; Test score: 0.8657055332948251\n",
      "model: XGBRegressor; estimators: 100; depth: 6; Test score: 0.893247896631456\n",
      "model: XGBRegressor; estimators: 10; depth: 7; Test score: 0.7447973174238163\n",
      "model: XGBRegressor; estimators: 50; depth: 7; Test score: 0.8818611829103034\n",
      "model: XGBRegressor; estimators: 100; depth: 7; Test score: 0.9029740115546796\n",
      "model: XGBRegressor; estimators: 10; depth: 8; Test score: 0.7898740153168594\n",
      "model: XGBRegressor; estimators: 50; depth: 8; Test score: 0.8928349948468833\n",
      "model: XGBRegressor; estimators: 100; depth: 8; Test score: 0.9077820598823104\n",
      "model: XGBRegressor; estimators: 10; depth: 9; Test score: 0.8136305471872881\n",
      "model: XGBRegressor; estimators: 50; depth: 9; Test score: 0.9023563517409339\n",
      "model: XGBRegressor; estimators: 100; depth: 9; Test score: 0.9114689063679889\n",
      "model: XGBRegressor; estimators: 10; depth: 10; Test score: 0.8441647451352206\n",
      "model: XGBRegressor; estimators: 50; depth: 10; Test score: 0.9078615293206727\n",
      "model: XGBRegressor; estimators: 100; depth: 10; Test score: 0.914121318876946\n",
      "Wall time: 2min 38s\n"
     ]
    }
   ],
   "source": [
    "%%time\n",
    "scores_rf = pd.DataFrame({'estimators':[], 'depth': [], 'score_r2': []})\n",
    "for depth in range(1,11):\n",
    "    for estimators in [10,50,100]:\n",
    "        model = XGBRegressor(n_jobs=-1, n_estimators=estimators, max_depth=depth)\n",
    "        model.fit(xtrain1, ytrain1)\n",
    "        score = model.score(xtest1, ytest1)\n",
    "        print(f'model: XGBRegressor; estimators: {estimators}; depth: {depth}; Test score: {score}')\n",
    "        scores_rf = scores_rf.append({'estimators':estimators, 'depth': depth, 'score_r2': score}, ignore_index=True)"
   ]
  },
  {
   "cell_type": "markdown",
   "metadata": {},
   "source": [
    "Видно, что стало немного получше."
   ]
  },
  {
   "cell_type": "code",
   "execution_count": 34,
   "metadata": {},
   "outputs": [
    {
     "name": "stdout",
     "output_type": "stream",
     "text": [
      "model: XGBRegressor; estimators: 1000; Train score: 0.9381026106577484; Valid score: 0.9204023531693403; Test score: 0.914121318876946\n",
      "Wall time: 1min 37s\n"
     ]
    }
   ],
   "source": [
    "%%time\n",
    "n_estimators = 1000\n",
    "model = XGBRegressor(n_jobs=-1, n_estimators=n_estimators)\n",
    "model.fit(xtrain1, ytrain1)\n",
    "train_score = model.score(xtrain1, ytrain1)\n",
    "valid_score = model.score(xtest1, ytest1)\n",
    "test_score = model.score(xtest, ytest)\n",
    "print(f'model: XGBRegressor; estimators: {n_estimators}; Train score: {train_score}; Valid score: {valid_score}; Test score: {score}')"
   ]
  },
  {
   "cell_type": "code",
   "execution_count": 35,
   "metadata": {},
   "outputs": [],
   "source": [
    "df_result = pd.DataFrame({'pred': model.predict(xtest), 'true': ytest})\n",
    "df_result = df_result.sort_values('true').reset_index()\n",
    "df_result['diff'] = df_result.pred - df_result.true"
   ]
  },
  {
   "cell_type": "code",
   "execution_count": 36,
   "metadata": {},
   "outputs": [
    {
     "data": {
      "text/plain": [
       "[<matplotlib.lines.Line2D at 0x2dcb7bc0730>]"
      ]
     },
     "execution_count": 36,
     "metadata": {},
     "output_type": "execute_result"
    },
    {
     "data": {
      "image/png": "[encoded data removed]",
      "text/plain": [
       "<Figure size 700x500 with 1 Axes>"
      ]
     },
     "metadata": {
      "needs_background": "light"
     },
     "output_type": "display_data"
    }
   ],
   "source": [
    "plt.plot(df_result.index, df_result.pred)\n",
    "plt.plot(df_result.index, df_result.true)"
   ]
  },
  {
   "cell_type": "code",
   "execution_count": 37,
   "metadata": {},
   "outputs": [
    {
     "data": {
      "text/plain": [
       "(0.000970996858266075, 0.2790059562486198)"
      ]
     },
     "execution_count": 37,
     "metadata": {},
     "output_type": "execute_result"
    }
   ],
   "source": [
    "df_result['diff'].mean(), df_result['diff'].std()"
   ]
  },
  {
   "cell_type": "markdown",
   "metadata": {},
   "source": [
    "### На тестовой выборке R<sup>2</sup> конечно улучшилась на 0.01, что не очень много, но все равно приятно."
   ]
  }
 ],
 "metadata": {
  "kernelspec": {
   "display_name": "Python 3",
   "language": "python",
   "name": "python3"
  },
  "language_info": {
   "codemirror_mode": {
    "name": "ipython",
    "version": 3
   },
   "file_extension": ".py",
   "mimetype": "text/x-python",
   "name": "python",
   "nbconvert_exporter": "python",
   "pygments_lexer": "ipython3",
   "version": "3.8.5"
  }
 },
 "nbformat": 4,
 "nbformat_minor": 4
}
